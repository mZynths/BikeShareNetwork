{
  "cells": [
    {
      "cell_type": "markdown",
      "metadata": {
        "id": "DaU-b7O6l4n5"
      },
      "source": [
        "## Download and import libraries"
      ]
    },
    {
      "cell_type": "code",
      "execution_count": 3,
      "metadata": {
        "id": "M1KUl2tEjCGN"
      },
      "outputs": [],
      "source": [
        "import pandas as pd\n",
        "import numpy as np\n",
        "import matplotlib.pyplot as plt\n",
        "from os import path\n",
        "import math\n",
        "from scipy.spatial import Voronoi\n",
        "from scipy.spatial import KDTree"
      ]
    },
    {
      "cell_type": "markdown",
      "metadata": {
        "id": "lkTQmJtAl8WN"
      },
      "source": [
        "## Download and load Dataset as `travels` and `stations`\n"
      ]
    },
    {
      "cell_type": "code",
      "execution_count": 4,
      "metadata": {
        "id": "YD-2RBu6kr93"
      },
      "outputs": [],
      "source": [
        "ds_path = './'"
      ]
    },
    {
      "cell_type": "code",
      "execution_count": 5,
      "metadata": {
        "colab": {
          "base_uri": "https://localhost:8080/",
          "height": 238
        },
        "id": "HBM8CJGIlKuR",
        "outputId": "a8948d98-e6f4-4e1b-8378-38ea577e064b"
      },
      "outputs": [],
      "source": [
        "stations = pd.read_csv(path.join(ds_path, 'nomenclature_2024.csv'), index_col=2)"
      ]
    },
    {
      "cell_type": "code",
      "execution_count": 6,
      "metadata": {
        "id": "0S1TX3iYncRO"
      },
      "outputs": [],
      "source": [
        "load_nrows = None # None: to load all"
      ]
    },
    {
      "cell_type": "markdown",
      "metadata": {
        "id": "VuHC12XRnrw3"
      },
      "source": [
        "### Load travels"
      ]
    },
    {
      "cell_type": "code",
      "execution_count": 7,
      "metadata": {
        "colab": {
          "base_uri": "https://localhost:8080/"
        },
        "id": "JtgRod32z7FZ",
        "outputId": "787676c5-5ddf-4653-a4eb-40041554217e"
      },
      "outputs": [
        {
          "data": {
            "text/plain": [
              "['Trip_Id',\n",
              " 'User_Id',\n",
              " 'Sex',\n",
              " 'Birth_year',\n",
              " 'Trip_start',\n",
              " 'Trip_end',\n",
              " 'Origin_Id',\n",
              " 'Destination_Id',\n",
              " 'Age',\n",
              " 'Duration']"
            ]
          },
          "execution_count": 7,
          "metadata": {},
          "output_type": "execute_result"
        }
      ],
      "source": [
        "pd.read_csv(\n",
        "    path.join(ds_path, 'mibici_2014-2024/mibici_2014-2024.csv'),\n",
        "    index_col=0,\n",
        "    nrows=0\n",
        ").columns.to_list()"
      ]
    },
    {
      "cell_type": "code",
      "execution_count": 8,
      "metadata": {
        "id": "PpzU5Y8Clmot"
      },
      "outputs": [],
      "source": [
        "travels = pd.read_csv(\n",
        "    path.join(ds_path, 'mibici_2014-2024/mibici_2014-2024.csv'),\n",
        "    index_col=0,\n",
        "    nrows=load_nrows,\n",
        "    usecols=['Trip_Id', 'Trip_start', 'Trip_end', 'Origin_Id', 'Destination_Id', 'Age'],\n",
        "    dtype={\n",
        "        'Origin_Id': np.uint16,\n",
        "        'Destination_Id': np.uint16,\n",
        "        'Age': np.uint8\n",
        "    },\n",
        "    parse_dates=['Trip_start', 'Trip_end'],\n",
        ")"
      ]
    },
    {
      "cell_type": "code",
      "execution_count": 9,
      "metadata": {
        "colab": {
          "base_uri": "https://localhost:8080/"
        },
        "id": "lPQo2knxxFin",
        "outputId": "7b18fa9c-7b12-425f-9c91-d406bbce2ae2"
      },
      "outputs": [
        {
          "name": "stdout",
          "output_type": "stream",
          "text": [
            "<class 'pandas.core.frame.DataFrame'>\n",
            "Index: 25863690 entries, 32244893 to 4725\n",
            "Data columns (total 5 columns):\n",
            " #   Column          Dtype         \n",
            "---  ------          -----         \n",
            " 0   Trip_start      datetime64[ns]\n",
            " 1   Trip_end        datetime64[ns]\n",
            " 2   Origin_Id       uint16        \n",
            " 3   Destination_Id  uint16        \n",
            " 4   Age             uint8         \n",
            "dtypes: datetime64[ns](2), uint16(2), uint8(1)\n",
            "memory usage: 715.3 MB\n"
          ]
        }
      ],
      "source": [
        "travels.info()"
      ]
    },
    {
      "cell_type": "code",
      "execution_count": 10,
      "metadata": {
        "colab": {
          "base_uri": "https://localhost:8080/"
        },
        "id": "cKK6DECDfwoH",
        "outputId": "d442c965-16ec-4255-d439-ba5d3b56b07e"
      },
      "outputs": [
        {
          "name": "stdout",
          "output_type": "stream",
          "text": [
            "Loaded this range of data:\n",
            "2014-12-01 12:10:13\n",
            "2024-02-01 00:24:31\n"
          ]
        }
      ],
      "source": [
        "print(\"Loaded this range of data:\")\n",
        "print(travels['Trip_start'].min())\n",
        "print(travels['Trip_end'].max())"
      ]
    },
    {
      "cell_type": "markdown",
      "metadata": {
        "id": "wt7AQwhInHM1"
      },
      "source": [
        "## Augment Dataset with data engineering"
      ]
    },
    {
      "cell_type": "markdown",
      "metadata": {
        "id": "1bEmf00dt8V9"
      },
      "source": [
        "### Time engineering"
      ]
    },
    {
      "cell_type": "code",
      "execution_count": 11,
      "metadata": {
        "id": "0FkN9m0Ni6U-"
      },
      "outputs": [],
      "source": [
        "# Feature engineering\n",
        "travels['start_hour'] = (travels['Trip_start'].dt.hour).astype(np.uint8)\n",
        "travels['start_dayofweek'] = (travels['Trip_start'].dt.dayofweek).astype(np.uint8)\n",
        "travels['start_is_weekend'] = (travels['start_dayofweek'] >= 5).astype(np.uint8)\n",
        "\n",
        "travels['end_hour'] = (travels['Trip_end'].dt.hour).astype(np.uint8)\n",
        "travels['end_dayofweek'] = (travels['Trip_end'].dt.dayofweek).astype(np.uint8)\n",
        "travels['end_is_weekend'] = (travels['end_dayofweek'] >= 5).astype(np.uint8)\n",
        "\n",
        "travels['Minute'] = (travels['Trip_start'].dt.minute).astype(np.uint8)\n",
        "travels['Hour'] = (travels['Trip_start'].dt.hour).astype(np.uint8)\n",
        "\n",
        "travels['Day'] = (travels['Trip_start'].dt.day).astype(np.uint8)\n",
        "travels['Month'] = (travels['Trip_start'].dt.month).astype(np.uint8)\n",
        "travels['Year'] = (travels['Trip_start'].dt.year).astype(np.uint16)\n"
      ]
    },
    {
      "cell_type": "code",
      "execution_count": 12,
      "metadata": {
        "id": "QO5thqZ149Jw"
      },
      "outputs": [],
      "source": [
        "travels['Duration'] = (travels['Trip_end'] - travels['Trip_start'])\n",
        "# travels.drop(columns=['Trip_start', 'Trip_end'], inplace=True)"
      ]
    },
    {
      "cell_type": "code",
      "execution_count": 13,
      "metadata": {
        "id": "qj6nntzn6Hxm"
      },
      "outputs": [],
      "source": [
        "travels['Duration'] = travels['Duration'].apply(lambda x: x.total_seconds() / 60)"
      ]
    },
    {
      "cell_type": "code",
      "execution_count": 14,
      "metadata": {},
      "outputs": [],
      "source": [
        "travels['Duration'] = travels['Duration'].astype(np.uint16)"
      ]
    },
    {
      "cell_type": "code",
      "execution_count": 15,
      "metadata": {
        "id": "5AlPwLqlutG_"
      },
      "outputs": [],
      "source": [
        "# Cyclical encoding\n",
        "travels['Start_hour_sin'] = np.sin((2 * np.pi * travels['start_hour']).astype(np.float16) / 24).astype(np.float16)\n",
        "travels['Start_hour_cos'] = np.cos((2 * np.pi * travels['start_hour']).astype(np.float16) / 24).astype(np.float16)"
      ]
    },
    {
      "cell_type": "code",
      "execution_count": 16,
      "metadata": {
        "id": "9NSDtlwf56RE"
      },
      "outputs": [
        {
          "name": "stdout",
          "output_type": "stream",
          "text": [
            "<class 'pandas.core.frame.DataFrame'>\n",
            "Index: 25863690 entries, 32244893 to 4725\n",
            "Data columns (total 19 columns):\n",
            " #   Column            Dtype         \n",
            "---  ------            -----         \n",
            " 0   Trip_start        datetime64[ns]\n",
            " 1   Trip_end          datetime64[ns]\n",
            " 2   Origin_Id         uint16        \n",
            " 3   Destination_Id    uint16        \n",
            " 4   Age               uint8         \n",
            " 5   start_hour        uint8         \n",
            " 6   start_dayofweek   uint8         \n",
            " 7   start_is_weekend  uint8         \n",
            " 8   end_hour          uint8         \n",
            " 9   end_dayofweek     uint8         \n",
            " 10  end_is_weekend    uint8         \n",
            " 11  Minute            uint8         \n",
            " 12  Hour              uint8         \n",
            " 13  Day               uint8         \n",
            " 14  Month             uint8         \n",
            " 15  Year              uint16        \n",
            " 16  Duration          uint16        \n",
            " 17  Start_hour_sin    float16       \n",
            " 18  Start_hour_cos    float16       \n",
            "dtypes: datetime64[ns](2), float16(2), uint16(4), uint8(11)\n",
            "memory usage: 1.1 GB\n"
          ]
        }
      ],
      "source": [
        "travels.info()"
      ]
    },
    {
      "cell_type": "markdown",
      "metadata": {
        "id": "g0kygh8EuC_d"
      },
      "source": [
        "### Geographical engineering"
      ]
    },
    {
      "cell_type": "code",
      "execution_count": 17,
      "metadata": {
        "id": "SDmwNXhduvfo"
      },
      "outputs": [],
      "source": [
        "station_coords = stations.set_index('id')[['longitude', 'latitude']].apply(tuple, axis=1).to_dict()\n",
        "\n",
        "# Map origin and destination coordinates to travels\n",
        "travels['origin'] = travels['Origin_Id'].map(station_coords)\n",
        "travels['destination'] = travels['Destination_Id'].map(station_coords)"
      ]
    },
    {
      "cell_type": "code",
      "execution_count": 18,
      "metadata": {},
      "outputs": [],
      "source": [
        "# Extract coordinates into separate columns\n",
        "travels[['origin_lon', 'origin_lat']] = pd.DataFrame(travels['origin'].tolist(), index=travels.index)\n",
        "travels.drop(columns=['origin'], inplace=True)\n",
        "\n",
        "travels[['dest_lon', 'dest_lat']] = pd.DataFrame(travels['destination'].tolist(), index=travels.index)\n",
        "travels.drop(columns=['destination'], inplace=True)"
      ]
    },
    {
      "cell_type": "code",
      "execution_count": 19,
      "metadata": {},
      "outputs": [],
      "source": [
        "travels['origin_lon'] = travels['origin_lon'].astype(np.float32)\n",
        "travels['dest_lon'] = travels['dest_lon'].astype(np.float32)\n",
        "travels['origin_lat'] = travels['origin_lat'].astype(np.float32)\n",
        "travels['dest_lat'] = travels['dest_lat'].astype(np.float32)"
      ]
    },
    {
      "cell_type": "code",
      "execution_count": 20,
      "metadata": {},
      "outputs": [],
      "source": [
        "travels['Trip_summary'] = travels.index.astype(np.uint32)"
      ]
    },
    {
      "cell_type": "code",
      "execution_count": 21,
      "metadata": {},
      "outputs": [],
      "source": [
        "def manhattanHaversine(lat1, lon1, lat2, lon2):\n",
        "    # Kilometers per radian\n",
        "    kpr = 6371.0088\n",
        "    \n",
        "    # Convert degrees to radians\n",
        "    lat1 = math.radians(lat1)\n",
        "    lon1 = math.radians(lon1)\n",
        "    lat2 = math.radians(lat2)\n",
        "    lon2 = math.radians(lon2)\n",
        "    \n",
        "    result = (kpr * abs(lat1 - lat2)) + (kpr * abs(lon1 - lon2) * math.cos((lat1 + lat2) / 2))\n",
        "\n",
        "    return result"
      ]
    },
    {
      "cell_type": "code",
      "execution_count": 22,
      "metadata": {},
      "outputs": [],
      "source": [
        "travels['Distance'] = travels.apply(lambda row: manhattanHaversine(row['origin_lat'], row['origin_lon'], row['dest_lat'], row['dest_lon']), axis=1).astype(np.float16)"
      ]
    },
    {
      "cell_type": "code",
      "execution_count": 23,
      "metadata": {
        "id": "31C3nTaA7Cgd"
      },
      "outputs": [
        {
          "name": "stdout",
          "output_type": "stream",
          "text": [
            "<class 'pandas.core.frame.DataFrame'>\n",
            "Index: 25863690 entries, 32244893 to 4725\n",
            "Data columns (total 25 columns):\n",
            " #   Column            Dtype         \n",
            "---  ------            -----         \n",
            " 0   Trip_start        datetime64[ns]\n",
            " 1   Trip_end          datetime64[ns]\n",
            " 2   Origin_Id         uint16        \n",
            " 3   Destination_Id    uint16        \n",
            " 4   Age               uint8         \n",
            " 5   start_hour        uint8         \n",
            " 6   start_dayofweek   uint8         \n",
            " 7   start_is_weekend  uint8         \n",
            " 8   end_hour          uint8         \n",
            " 9   end_dayofweek     uint8         \n",
            " 10  end_is_weekend    uint8         \n",
            " 11  Minute            uint8         \n",
            " 12  Hour              uint8         \n",
            " 13  Day               uint8         \n",
            " 14  Month             uint8         \n",
            " 15  Year              uint16        \n",
            " 16  Duration          uint16        \n",
            " 17  Start_hour_sin    float16       \n",
            " 18  Start_hour_cos    float16       \n",
            " 19  origin_lon        float32       \n",
            " 20  origin_lat        float32       \n",
            " 21  dest_lon          float32       \n",
            " 22  dest_lat          float32       \n",
            " 23  Trip_summary      uint32        \n",
            " 24  Distance          float16       \n",
            "dtypes: datetime64[ns](2), float16(3), float32(4), uint16(4), uint32(1), uint8(11)\n",
            "memory usage: 1.7 GB\n"
          ]
        }
      ],
      "source": [
        "travels.info()"
      ]
    },
    {
      "cell_type": "markdown",
      "metadata": {
        "id": "G5qSWKqiwaqX"
      },
      "source": [
        "### Weather engineering"
      ]
    },
    {
      "cell_type": "code",
      "execution_count": 24,
      "metadata": {
        "id": "wZKww58a87an"
      },
      "outputs": [
        {
          "name": "stdout",
          "output_type": "stream",
          "text": [
            "left_up: (20.63613, -103.301239)\n",
            "right_up: (20.73837, -103.301239)\n",
            "left_down: (20.63613, -103.4247637)\n",
            "right_down: (20.73837, -103.4247637)\n",
            "mean: [  20.67962362 -103.36229162]\n"
          ]
        }
      ],
      "source": [
        "# Figure out corners and center\n",
        "min_lat = stations['latitude'].min()\n",
        "max_lat = stations['latitude'].max()\n",
        "\n",
        "mean = stations[['latitude', 'longitude']].mean()\n",
        "\n",
        "min_lon = stations['longitude'].min()\n",
        "max_lon = stations['longitude'].max()\n",
        "\n",
        "left_up = (min_lat, max_lon)\n",
        "right_up = (max_lat, max_lon)\n",
        "left_down = (min_lat, min_lon)\n",
        "right_down = (max_lat, min_lon)\n",
        "\n",
        "print(f\"left_up: {left_up}\")\n",
        "print(f\"right_up: {right_up}\")\n",
        "print(f\"left_down: {left_down}\")\n",
        "print(f\"right_down: {right_down}\")\n",
        "print(f\"mean: {mean.values}\")"
      ]
    },
    {
      "cell_type": "code",
      "execution_count": 25,
      "metadata": {
        "id": "n7QsqNNp2ydp"
      },
      "outputs": [
        {
          "data": {
            "text/html": [
              "<div>\n",
              "<style scoped>\n",
              "    .dataframe tbody tr th:only-of-type {\n",
              "        vertical-align: middle;\n",
              "    }\n",
              "\n",
              "    .dataframe tbody tr th {\n",
              "        vertical-align: top;\n",
              "    }\n",
              "\n",
              "    .dataframe thead th {\n",
              "        text-align: right;\n",
              "    }\n",
              "</style>\n",
              "<table border=\"1\" class=\"dataframe\">\n",
              "  <thead>\n",
              "    <tr style=\"text-align: right;\">\n",
              "      <th></th>\n",
              "      <th>latitude</th>\n",
              "      <th>longitude</th>\n",
              "    </tr>\n",
              "    <tr>\n",
              "      <th>location_id</th>\n",
              "      <th></th>\n",
              "      <th></th>\n",
              "    </tr>\n",
              "  </thead>\n",
              "  <tbody>\n",
              "    <tr>\n",
              "      <th>0</th>\n",
              "      <td>20.632689</td>\n",
              "      <td>-103.350159</td>\n",
              "    </tr>\n",
              "    <tr>\n",
              "      <th>1</th>\n",
              "      <td>20.773285</td>\n",
              "      <td>-103.286133</td>\n",
              "    </tr>\n",
              "    <tr>\n",
              "      <th>2</th>\n",
              "      <td>20.632689</td>\n",
              "      <td>-103.440979</td>\n",
              "    </tr>\n",
              "    <tr>\n",
              "      <th>3</th>\n",
              "      <td>20.773285</td>\n",
              "      <td>-103.468140</td>\n",
              "    </tr>\n",
              "    <tr>\n",
              "      <th>4</th>\n",
              "      <td>20.702986</td>\n",
              "      <td>-103.363617</td>\n",
              "    </tr>\n",
              "  </tbody>\n",
              "</table>\n",
              "</div>"
            ],
            "text/plain": [
              "              latitude   longitude\n",
              "location_id                       \n",
              "0            20.632689 -103.350159\n",
              "1            20.773285 -103.286133\n",
              "2            20.632689 -103.440979\n",
              "3            20.773285 -103.468140\n",
              "4            20.702986 -103.363617"
            ]
          },
          "execution_count": 25,
          "metadata": {},
          "output_type": "execute_result"
        }
      ],
      "source": [
        "# Load weather stations df\n",
        "weather_stations = pd.read_csv(\n",
        "    './open-meteo-stations.csv',\n",
        "    index_col=0,\n",
        "    usecols=['location_id', 'latitude', 'longitude'],\n",
        "    dtype={\n",
        "        'location_id': np.uint16,\n",
        "        'latitude': np.float32,\n",
        "        'longitude': np.float32\n",
        "    }\n",
        ")\n",
        "\n",
        "weather_stations"
      ]
    },
    {
      "cell_type": "code",
      "execution_count": 26,
      "metadata": {
        "id": "-8M5_OC-wk9p"
      },
      "outputs": [],
      "source": [
        "# Weather station coordinates (lon, lat)\n",
        "weather_points = weather_stations[['longitude', 'latitude']].values\n",
        "\n",
        "# Compute Voronoi regions\n",
        "vor = Voronoi(weather_points)\n",
        "\n",
        "# Use Vornoi to assign station id to each bike station\n",
        "tree = KDTree(weather_points)\n",
        "stations['Weather_station_id'] = tree.query(stations[['longitude', 'latitude']].values)[1].astype(np.uint16)"
      ]
    },
    {
      "cell_type": "code",
      "execution_count": 27,
      "metadata": {
        "id": "sN2Leh9V-PTE"
      },
      "outputs": [
        {
          "data": {
            "image/png": "[encoded data removed]",
            "text/plain": [
              "<Figure size 640x480 with 1 Axes>"
            ]
          },
          "metadata": {},
          "output_type": "display_data"
        }
      ],
      "source": [
        "fig, ax = plt.subplots()\n",
        "\n",
        "# Plot the result\n",
        "for station in np.unique(stations['Weather_station_id']):\n",
        "    subset = stations[stations['Weather_station_id'] == station]\n",
        "\n",
        "    ax.scatter(subset['latitude'], subset['longitude'], alpha=0.7, marker='o', label=station, s=30)\n",
        "\n",
        "ax.set_xlabel('Latitude')\n",
        "ax.set_ylabel('Longitude')\n",
        "ax.set_title('Voronoi Diagram')\n",
        "ax.legend()\n",
        "plt.show()"
      ]
    },
    {
      "cell_type": "markdown",
      "metadata": {
        "id": "wOJDJekb-Ai3"
      },
      "source": [
        "### Put weather data into Trips df"
      ]
    },
    {
      "cell_type": "code",
      "execution_count": 28,
      "metadata": {
        "id": "wAE7Cjp9-EbZ"
      },
      "outputs": [
        {
          "name": "stdout",
          "output_type": "stream",
          "text": [
            "<class 'pandas.core.frame.DataFrame'>\n",
            "RangeIndex: 402000 entries, 0 to 401999\n",
            "Data columns (total 6 columns):\n",
            " #   Column                    Non-Null Count   Dtype         \n",
            "---  ------                    --------------   -----         \n",
            " 0   location_id               402000 non-null  uint16        \n",
            " 1   time                      402000 non-null  datetime64[ns]\n",
            " 2   temperature_2m (°C)       402000 non-null  float64       \n",
            " 3   rain (mm)                 402000 non-null  float16       \n",
            " 4   cloud_cover (%)           402000 non-null  int64         \n",
            " 5   relative_humidity_2m (%)  402000 non-null  int64         \n",
            "dtypes: datetime64[ns](1), float16(1), float64(1), int64(2), uint16(1)\n",
            "memory usage: 13.8 MB\n"
          ]
        }
      ],
      "source": [
        "weather_data = pd.read_csv(\n",
        "    'open-meteo-data.csv',\n",
        "    low_memory=True,\n",
        "    parse_dates=['time'],\n",
        "    dtype={\n",
        "        'location_id': np.uint16,\n",
        "        'rain (mm)': np.float16,\n",
        "        'relative_humidity_2m': np.uint8\n",
        "    }\n",
        ")\n",
        "\n",
        "weather_data.info()"
      ]
    },
    {
      "cell_type": "code",
      "execution_count": 29,
      "metadata": {
        "id": "NvdH8-wl_QoO"
      },
      "outputs": [],
      "source": [
        "weather_data['temperature_2m (°C)'] = weather_data['temperature_2m (°C)'].astype(np.uint8)"
      ]
    },
    {
      "cell_type": "code",
      "execution_count": 30,
      "metadata": {
        "id": "Pv1aU1sDZtcS"
      },
      "outputs": [],
      "source": [
        "weather_data['Hour'] = (weather_data['time'].dt.hour).astype(np.uint8)\n",
        "weather_data['Day'] = (weather_data['time'].dt.day).astype(np.uint8)\n",
        "weather_data['Month'] = (weather_data['time'].dt.month).astype(np.uint8)\n",
        "weather_data['Year'] = (weather_data['time'].dt.year).astype(np.uint16)\n",
        "\n",
        "weather_data.drop(columns=['time'], inplace=True)"
      ]
    },
    {
      "cell_type": "code",
      "execution_count": 31,
      "metadata": {
        "id": "eOZi3QxZpFoA"
      },
      "outputs": [],
      "source": [
        "weather_data.rename(columns={'location_id': 'Weather_station_id'}, inplace=True)"
      ]
    },
    {
      "cell_type": "code",
      "execution_count": 32,
      "metadata": {
        "id": "g5jY8uepfbxg"
      },
      "outputs": [
        {
          "data": {
            "text/plain": [
              "Index(['Weather_station_id', 'temperature_2m (°C)', 'rain (mm)',\n",
              "       'cloud_cover (%)', 'relative_humidity_2m (%)', 'Hour', 'Day', 'Month',\n",
              "       'Year'],\n",
              "      dtype='object')"
            ]
          },
          "execution_count": 32,
          "metadata": {},
          "output_type": "execute_result"
        }
      ],
      "source": [
        "weather_data.columns"
      ]
    },
    {
      "cell_type": "code",
      "execution_count": 33,
      "metadata": {
        "id": "uuTj64u-ahKK"
      },
      "outputs": [
        {
          "data": {
            "text/plain": [
              "Index(['Trip_start', 'Trip_end', 'Origin_Id', 'Destination_Id', 'Age',\n",
              "       'start_hour', 'start_dayofweek', 'start_is_weekend', 'end_hour',\n",
              "       'end_dayofweek', 'end_is_weekend', 'Minute', 'Hour', 'Day', 'Month',\n",
              "       'Year', 'Duration', 'Start_hour_sin', 'Start_hour_cos', 'origin_lon',\n",
              "       'origin_lat', 'dest_lon', 'dest_lat', 'Trip_summary', 'Distance'],\n",
              "      dtype='object')"
            ]
          },
          "execution_count": 33,
          "metadata": {},
          "output_type": "execute_result"
        }
      ],
      "source": [
        "travels.columns"
      ]
    },
    {
      "cell_type": "code",
      "execution_count": 34,
      "metadata": {
        "id": "thxi1JUxYmOz"
      },
      "outputs": [],
      "source": [
        "travels['Weather_station_id'] = travels['Origin_Id'].map(stations.set_index('id')['Weather_station_id'])\n",
        "\n",
        "travels = travels.merge(\n",
        "    weather_data,\n",
        "    on=['Weather_station_id', 'Hour', 'Day', 'Month', 'Year'],\n",
        "    how='left'\n",
        ")"
      ]
    },
    {
      "cell_type": "code",
      "execution_count": 35,
      "metadata": {
        "id": "RT3kz6pA_Jya"
      },
      "outputs": [
        {
          "name": "stdout",
          "output_type": "stream",
          "text": [
            "<class 'pandas.core.frame.DataFrame'>\n",
            "RangeIndex: 25863690 entries, 0 to 25863689\n",
            "Data columns (total 30 columns):\n",
            " #   Column                    Dtype         \n",
            "---  ------                    -----         \n",
            " 0   Trip_start                datetime64[ns]\n",
            " 1   Trip_end                  datetime64[ns]\n",
            " 2   Origin_Id                 uint16        \n",
            " 3   Destination_Id            uint16        \n",
            " 4   Age                       uint8         \n",
            " 5   start_hour                uint8         \n",
            " 6   start_dayofweek           uint8         \n",
            " 7   start_is_weekend          uint8         \n",
            " 8   end_hour                  uint8         \n",
            " 9   end_dayofweek             uint8         \n",
            " 10  end_is_weekend            uint8         \n",
            " 11  Minute                    uint8         \n",
            " 12  Hour                      uint8         \n",
            " 13  Day                       uint8         \n",
            " 14  Month                     uint8         \n",
            " 15  Year                      uint16        \n",
            " 16  Duration                  uint16        \n",
            " 17  Start_hour_sin            float16       \n",
            " 18  Start_hour_cos            float16       \n",
            " 19  origin_lon                float32       \n",
            " 20  origin_lat                float32       \n",
            " 21  dest_lon                  float32       \n",
            " 22  dest_lat                  float32       \n",
            " 23  Trip_summary              uint32        \n",
            " 24  Distance                  float16       \n",
            " 25  Weather_station_id        float64       \n",
            " 26  temperature_2m (°C)       float64       \n",
            " 27  rain (mm)                 float16       \n",
            " 28  cloud_cover (%)           float64       \n",
            " 29  relative_humidity_2m (%)  float64       \n",
            "dtypes: datetime64[ns](2), float16(4), float32(4), float64(4), uint16(4), uint32(1), uint8(11)\n",
            "memory usage: 2.3 GB\n"
          ]
        }
      ],
      "source": [
        "travels.info()"
      ]
    },
    {
      "cell_type": "markdown",
      "metadata": {
        "id": "-ka6LTrGpwR0"
      },
      "source": [
        "### Save engineered df"
      ]
    },
    {
      "cell_type": "code",
      "execution_count": 36,
      "metadata": {
        "id": "-FLByu7wpvCu"
      },
      "outputs": [],
      "source": [
        "travels.to_csv('trips_engineered.csv', index=True)"
      ]
    }
  ],
  "metadata": {
    "colab": {
      "collapsed_sections": [
        "DaU-b7O6l4n5",
        "VuHC12XRnrw3"
      ],
      "provenance": []
    },
    "kernelspec": {
      "display_name": "newsic",
      "language": "python",
      "name": "python3"
    },
    "language_info": {
      "codemirror_mode": {
        "name": "ipython",
        "version": 3
      },
      "file_extension": ".py",
      "mimetype": "text/x-python",
      "name": "python",
      "nbconvert_exporter": "python",
      "pygments_lexer": "ipython3",
      "version": "3.11.11"
    }
  },
  "nbformat": 4,
  "nbformat_minor": 0
}
